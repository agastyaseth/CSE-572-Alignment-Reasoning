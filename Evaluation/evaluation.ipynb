{
 "cells": [
  {
   "cell_type": "code",
   "execution_count": 1,
   "metadata": {},
   "outputs": [],
   "source": [
    "from transformers import AutoTokenizer, AutoModelForCausalLM, pipeline\n",
    "from datasets import load_dataset\n",
    "import torch"
   ]
  },
  {
   "cell_type": "code",
   "execution_count": 2,
   "metadata": {},
   "outputs": [],
   "source": [
    "from collections import defaultdict"
   ]
  },
  {
   "cell_type": "code",
   "execution_count": 3,
   "metadata": {},
   "outputs": [
    {
     "data": {
      "application/vnd.jupyter.widget-view+json": {
       "model_id": "b24b19fa3d5042c1948e1b71ef2ba438",
       "version_major": 2,
       "version_minor": 0
      },
      "text/plain": [
       "VBox(children=(HTML(value='<center> <img\\nsrc=https://huggingface.co/front/assets/huggingface_logo-noborder.sv…"
      ]
     },
     "metadata": {},
     "output_type": "display_data"
    }
   ],
   "source": [
    "#login to huggingface hub\n",
    "from huggingface_hub import login\n",
    "login()"
   ]
  },
  {
   "cell_type": "code",
   "execution_count": 4,
   "metadata": {},
   "outputs": [],
   "source": [
    "MODEL_NAME = \"meta-llama/Meta-Llama-3.1-8B-Instruct\" "
   ]
  },
  {
   "cell_type": "code",
   "execution_count": 5,
   "metadata": {},
   "outputs": [
    {
     "name": "stdout",
     "output_type": "stream",
     "text": [
      "Loading model and tokenizer...\n"
     ]
    },
    {
     "name": "stderr",
     "output_type": "stream",
     "text": [
      "/scratch/aseth7/conda-envs/dm-proj/lib/python3.10/site-packages/transformers/models/auto/tokenization_auto.py:809: FutureWarning: The `use_auth_token` argument is deprecated and will be removed in v5 of Transformers. Please use `token` instead.\n",
      "  warnings.warn(\n"
     ]
    },
    {
     "data": {
      "application/vnd.jupyter.widget-view+json": {
       "model_id": "d192f1df055044e6bb04f3d1b0f7e6f6",
       "version_major": 2,
       "version_minor": 0
      },
      "text/plain": [
       "tokenizer_config.json:   0%|          | 0.00/55.4k [00:00<?, ?B/s]"
      ]
     },
     "metadata": {},
     "output_type": "display_data"
    },
    {
     "data": {
      "application/vnd.jupyter.widget-view+json": {
       "model_id": "4b2104cb5d544b71ab6e261b8ade4b06",
       "version_major": 2,
       "version_minor": 0
      },
      "text/plain": [
       "tokenizer.json:   0%|          | 0.00/9.09M [00:00<?, ?B/s]"
      ]
     },
     "metadata": {},
     "output_type": "display_data"
    },
    {
     "data": {
      "application/vnd.jupyter.widget-view+json": {
       "model_id": "62ac8bc0330542e786cf2dbf1b6f1f8a",
       "version_major": 2,
       "version_minor": 0
      },
      "text/plain": [
       "special_tokens_map.json:   0%|          | 0.00/296 [00:00<?, ?B/s]"
      ]
     },
     "metadata": {},
     "output_type": "display_data"
    },
    {
     "name": "stderr",
     "output_type": "stream",
     "text": [
      "/scratch/aseth7/conda-envs/dm-proj/lib/python3.10/site-packages/transformers/models/auto/auto_factory.py:471: FutureWarning: The `use_auth_token` argument is deprecated and will be removed in v5 of Transformers. Please use `token` instead.\n",
      "  warnings.warn(\n"
     ]
    },
    {
     "data": {
      "application/vnd.jupyter.widget-view+json": {
       "model_id": "f1fa66560e8a4079a81f925f87056edd",
       "version_major": 2,
       "version_minor": 0
      },
      "text/plain": [
       "config.json:   0%|          | 0.00/855 [00:00<?, ?B/s]"
      ]
     },
     "metadata": {},
     "output_type": "display_data"
    },
    {
     "data": {
      "application/vnd.jupyter.widget-view+json": {
       "model_id": "121267f242e64de6ba512deb2faa52c5",
       "version_major": 2,
       "version_minor": 0
      },
      "text/plain": [
       "model.safetensors.index.json:   0%|          | 0.00/23.9k [00:00<?, ?B/s]"
      ]
     },
     "metadata": {},
     "output_type": "display_data"
    },
    {
     "data": {
      "application/vnd.jupyter.widget-view+json": {
       "model_id": "83483c54295c4e54817b2a1378414562",
       "version_major": 2,
       "version_minor": 0
      },
      "text/plain": [
       "Downloading shards:   0%|          | 0/4 [00:00<?, ?it/s]"
      ]
     },
     "metadata": {},
     "output_type": "display_data"
    },
    {
     "data": {
      "application/vnd.jupyter.widget-view+json": {
       "model_id": "f3c892457ed84ace8225ad35268e0d2a",
       "version_major": 2,
       "version_minor": 0
      },
      "text/plain": [
       "model-00001-of-00004.safetensors:   0%|          | 0.00/4.98G [00:00<?, ?B/s]"
      ]
     },
     "metadata": {},
     "output_type": "display_data"
    },
    {
     "data": {
      "application/vnd.jupyter.widget-view+json": {
       "model_id": "342b6fdaebae4210a7e464863a28a1d5",
       "version_major": 2,
       "version_minor": 0
      },
      "text/plain": [
       "model-00002-of-00004.safetensors:   0%|          | 0.00/5.00G [00:00<?, ?B/s]"
      ]
     },
     "metadata": {},
     "output_type": "display_data"
    },
    {
     "data": {
      "application/vnd.jupyter.widget-view+json": {
       "model_id": "dc3b066c2a7a46729ed8739ebb670f20",
       "version_major": 2,
       "version_minor": 0
      },
      "text/plain": [
       "model-00003-of-00004.safetensors:   0%|          | 0.00/4.92G [00:00<?, ?B/s]"
      ]
     },
     "metadata": {},
     "output_type": "display_data"
    },
    {
     "data": {
      "application/vnd.jupyter.widget-view+json": {
       "model_id": "56e31cfe746f4362bc6e46547cdaacc8",
       "version_major": 2,
       "version_minor": 0
      },
      "text/plain": [
       "model-00004-of-00004.safetensors:   0%|          | 0.00/1.17G [00:00<?, ?B/s]"
      ]
     },
     "metadata": {},
     "output_type": "display_data"
    },
    {
     "data": {
      "application/vnd.jupyter.widget-view+json": {
       "model_id": "ca485d916b974801b9dfe6f55ff54783",
       "version_major": 2,
       "version_minor": 0
      },
      "text/plain": [
       "Loading checkpoint shards:   0%|          | 0/4 [00:00<?, ?it/s]"
      ]
     },
     "metadata": {},
     "output_type": "display_data"
    },
    {
     "data": {
      "application/vnd.jupyter.widget-view+json": {
       "model_id": "17f880e9c57249b1a7088d812609ef8f",
       "version_major": 2,
       "version_minor": 0
      },
      "text/plain": [
       "generation_config.json:   0%|          | 0.00/184 [00:00<?, ?B/s]"
      ]
     },
     "metadata": {},
     "output_type": "display_data"
    }
   ],
   "source": [
    "print(\"Loading model and tokenizer...\")\n",
    "tokenizer = AutoTokenizer.from_pretrained(MODEL_NAME, use_auth_token=True)\n",
    "model = AutoModelForCausalLM.from_pretrained(MODEL_NAME, device_map=\"auto\", torch_dtype=torch.float16, use_auth_token=True)"
   ]
  },
  {
   "cell_type": "code",
   "execution_count": 6,
   "metadata": {},
   "outputs": [],
   "source": [
    "device = torch.device(\"cuda\" if torch.cuda.is_available() else \"cpu\")"
   ]
  },
  {
   "cell_type": "code",
   "execution_count": 7,
   "metadata": {},
   "outputs": [
    {
     "name": "stdout",
     "output_type": "stream",
     "text": [
      "Creating text-generation pipeline...\n"
     ]
    }
   ],
   "source": [
    "# Step 2: Create a text-generation pipeline\n",
    "print(\"Creating text-generation pipeline...\")\n",
    "generation_pipeline = pipeline(\n",
    "    \"text-generation\",\n",
    "    model=model,\n",
    "    tokenizer=tokenizer,\n",
    "    # device=device\n",
    ")\n"
   ]
  },
  {
   "cell_type": "code",
   "execution_count": 8,
   "metadata": {},
   "outputs": [
    {
     "name": "stdout",
     "output_type": "stream",
     "text": [
      "Loading MMLU dataset...\n"
     ]
    }
   ],
   "source": [
    "print(\"Loading MMLU dataset...\")\n",
    "dataset = load_dataset(\"cais/mmlu\", \"all\")"
   ]
  },
  {
   "cell_type": "code",
   "execution_count": null,
   "metadata": {},
   "outputs": [],
   "source": [
    "# def evaluate_on_mmlu(model_pipeline, dataset, num_samples=None, batch_size=8):\n",
    "#     total_correct = 0\n",
    "#     total_questions = 0\n",
    "#     subject_results = defaultdict(lambda: {\"correct\": 0, \"total\": 0})\n",
    "#     csv_results = []\n",
    "\n",
    "#     print(\"Evaluating on MMLU...\")\n",
    "#     # Limit dataset size if num_samples is provided\n",
    "#     if num_samples:\n",
    "#         dataset['test'] = dataset['test'].select(range(num_samples))\n",
    "\n",
    "#     for batch_start in range(0, len(dataset['test']), batch_size):\n",
    "#         batch = dataset['test'].select(range(batch_start, min(batch_start + batch_size, len(dataset['test']))))\n",
    "#         inputs = []\n",
    "#         print(f\"Processing batch {batch_start + 1} - {batch_start + len(batch)}...\")\n",
    "#         for i in range(len(batch)):\n",
    "#             question = batch[\"question\"][i]\n",
    "#             choices = batch[\"choices\"][i]\n",
    "#             correct_answer = batch[\"answer\"][i]\n",
    "#             subject = batch[\"subject\"][i]\n",
    "\n",
    "#             prompt = (\n",
    "#                 f\"Question: {question}\\n\"\n",
    "#                 f\"Choices: {', '.join(choices)}\\n\"\n",
    "#                 \"Think step-by-step. Please provide your answer in the format 'Steps: [steps]; Answer: [choice]'.\"\n",
    "#             )\n",
    "#             inputs.append(prompt)\n",
    "\n",
    "#         # Generate predictions in batch\n",
    "#         outputs = model_pipeline(\n",
    "#             inputs, \n",
    "#             max_length=2048, \n",
    "#             num_return_sequences=1,\n",
    "#             return_full_text=False\n",
    "#         )\n",
    "\n",
    "#         for i, output in enumerate(outputs):\n",
    "#             question = batch[\"question\"][i]\n",
    "#             choices = batch[\"choices\"][i]\n",
    "#             correct_choice = choices[batch[\"answer\"][i]]\n",
    "#             subject = batch[\"subject\"][i]\n",
    "#             print(f\"\\nQuestion: {question}\")\n",
    "#             print(f\"Choices: {', '.join(choices)}\")\n",
    "#             print(f\"Correct Answer: {correct_choice}\")\n",
    "#             print(f\"Prediction: {output[0]['generated_text']}\")\n",
    "\n",
    "#             # Parse the answer from model output\n",
    "#             print(\"DEBUG: \", output)\n",
    "#             prediction = output[0][\"generated_text\"]\n",
    "#             if \"Answer:\" in prediction:\n",
    "#                 prediction = prediction.split(\"Answer:\")[-1].strip()\n",
    "#             else:\n",
    "#                 prediction = \"\"\n",
    "\n",
    "#             # Check correctness\n",
    "#             is_correct = (prediction == correct_choice)\n",
    "#             if is_correct:\n",
    "#                 total_correct += 1\n",
    "#                 subject_results[subject][\"correct\"] += 1\n",
    "#             subject_results[subject][\"total\"] += 1\n",
    "#             total_questions += 1\n",
    "\n",
    "#             # Save question result to CSV results\n",
    "#             csv_results.append({\n",
    "#                 \"subject\": subject,\n",
    "#                 \"question\": question,\n",
    "#                 \"choices\": choices,\n",
    "#                 \"correct_answer\": correct_choice,\n",
    "#                 \"prediction\": prediction,\n",
    "#                 \"is_correct\": is_correct\n",
    "#             })\n",
    "\n",
    "#     # Calculate overall accuracy\n",
    "#     overall_accuracy = total_correct / total_questions if total_questions > 0 else 0\n",
    "\n",
    "#     # Print per-subject results\n",
    "#     print(\"\\nPer-Subject Accuracy:\")\n",
    "#     for subject, result in subject_results.items():\n",
    "#         subject_accuracy = result[\"correct\"] / result[\"total\"] if result[\"total\"] > 0 else 0\n",
    "#         print(f\"{subject}: {subject_accuracy * 100:.2f}%\")\n",
    "\n",
    "#     # Print overall accuracy\n",
    "#     print(f\"\\nOverall Accuracy: {overall_accuracy * 100:.2f}%\")\n",
    "\n",
    "#     return overall_accuracy, subject_results, csv_results"
   ]
  },
  {
   "cell_type": "code",
   "execution_count": null,
   "metadata": {},
   "outputs": [
    {
     "ename": "",
     "evalue": "",
     "output_type": "error",
     "traceback": [
      "\u001b[1;31mRunning cells with 'Python 3.9.6' requires the ipykernel package.\n",
      "\u001b[1;31mRun the following command to install 'ipykernel' into the Python environment. \n",
      "\u001b[1;31mCommand: '/usr/bin/python3 -m pip install ipykernel -U --user --force-reinstall'"
     ]
    }
   ],
   "source": [
    "from collections import defaultdict\n",
    "\n",
    "\n",
    "def format_example(question, choices, include_answer=True, correct_answer=None):\n",
    "    \"\"\"\n",
    "    Format a single question with multiple choices into a prompt template.\n",
    "    \"\"\"\n",
    "    prompt = question\n",
    "    for idx, choice in enumerate(choices):\n",
    "        prompt += f\"\\n{chr(65 + idx)}. {choice}\"\n",
    "    prompt += \"\\nAnswer:\"\n",
    "    if include_answer and correct_answer is not None:\n",
    "        prompt += f\" {correct_answer}\\n\"\n",
    "    return prompt\n",
    "\n",
    "\n",
    "def gen_prompt(dev_samples, subject):\n",
    "    \"\"\"\n",
    "    Generate a complete prompt for a subject with multiple training examples.\n",
    "    \"\"\"\n",
    "    prompt = f\"The following are multiple choice questions (with answers) about {subject}.\\n\\n\"\n",
    "    for sample in dev_samples:\n",
    "        question = sample[\"question\"]\n",
    "        choices = sample[\"choices\"]\n",
    "        correct_answer = sample[\"answer\"]\n",
    "        prompt += format_example(question, choices, include_answer=True, correct_answer=correct_answer)\n",
    "    return prompt\n",
    "\n",
    "\n",
    "def evaluate_on_mmlu(model_pipeline, dataset, num_samples=None, batch_size=8):\n",
    "    \"\"\"\n",
    "    Evaluate the model on the MMLU dataset using a specific prompt template.\n",
    "    \"\"\"\n",
    "    total_correct = 0\n",
    "    total_questions = 0\n",
    "    subject_results = defaultdict(lambda: {\"correct\": 0, \"total\": 0})\n",
    "    csv_results = []\n",
    "\n",
    "    print(\"Evaluating on MMLU...\")\n",
    "    # Limit dataset size if num_samples is provided\n",
    "    if num_samples:\n",
    "        dataset['test'] = dataset['test'].select(range(num_samples))\n",
    "\n",
    "    for batch_start in range(0, len(dataset['test']), batch_size):\n",
    "        batch = dataset['test'].select(range(batch_start, min(batch_start + batch_size, len(dataset['test']))))\n",
    "        inputs = []\n",
    "        print(f\"Processing batch {batch_start + 1} - {batch_start + len(batch)}...\")\n",
    "        for i in range(len(batch)):\n",
    "            question = batch[\"question\"][i]\n",
    "            choices = batch[\"choices\"][i]\n",
    "            correct_answer_index = batch[\"answer\"][i]\n",
    "            subject = batch[\"subject\"][i]\n",
    "            correct_choice = choices[correct_answer_index]\n",
    "\n",
    "            # Generate the prompt using the new template\n",
    "            dev_samples = dataset[\"dev\"].filter(lambda ex: ex[\"subject\"] == subject)[:5]  # Few-shot examples\n",
    "            train_prompt = gen_prompt(dev_samples, subject)\n",
    "            test_prompt = format_example(question, choices, include_answer=False)\n",
    "            prompt = train_prompt + test_prompt\n",
    "            inputs.append(prompt)\n",
    "\n",
    "        # Generate predictions in batch\n",
    "        outputs = model_pipeline(\n",
    "            inputs, \n",
    "            max_length=2048, \n",
    "            num_return_sequences=1,\n",
    "            return_full_text=False\n",
    "        )\n",
    "\n",
    "        for i, output in enumerate(outputs):\n",
    "            question = batch[\"question\"][i]\n",
    "            choices = batch[\"choices\"][i]\n",
    "            correct_choice = choices[batch[\"answer\"][i]]\n",
    "            subject = batch[\"subject\"][i]\n",
    "            print(f\"\\nQuestion: {question}\")\n",
    "            print(f\"Choices: {', '.join(choices)}\")\n",
    "            print(f\"Correct Answer: {correct_choice}\")\n",
    "            print(f\"Prediction: {output[0]['generated_text']}\")\n",
    "\n",
    "            # Parse the answer from model output\n",
    "            prediction = output[0][\"generated_text\"]\n",
    "            if \"Answer:\" in prediction:\n",
    "                prediction = prediction.split(\"Answer:\")[-1].strip()\n",
    "            else:\n",
    "                prediction = \"\"\n",
    "\n",
    "            # Check correctness\n",
    "            is_correct = (prediction == correct_choice)\n",
    "            if is_correct:\n",
    "                total_correct += 1\n",
    "                subject_results[subject][\"correct\"] += 1\n",
    "            subject_results[subject][\"total\"] += 1\n",
    "            total_questions += 1\n",
    "\n",
    "            # Save question result to CSV results\n",
    "            csv_results.append({\n",
    "                \"subject\": subject,\n",
    "                \"question\": question,\n",
    "                \"choices\": choices,\n",
    "                \"correct_answer\": correct_choice,\n",
    "                \"prediction\": prediction,\n",
    "                \"is_correct\": is_correct\n",
    "            })\n",
    "\n",
    "    # Calculate overall accuracy\n",
    "    overall_accuracy = total_correct / total_questions if total_questions > 0 else 0\n",
    "\n",
    "    # Print per-subject results\n",
    "    print(\"\\nPer-Subject Accuracy:\")\n",
    "    for subject, result in subject_results.items():\n",
    "        subject_accuracy = result[\"correct\"] / result[\"total\"] if result[\"total\"] > 0 else 0\n",
    "        print(f\"{subject}: {subject_accuracy * 100:.2f}%\")\n",
    "\n",
    "    # Print overall accuracy\n",
    "    print(f\"\\nOverall Accuracy: {overall_accuracy * 100:.2f}%\")\n",
    "\n",
    "    return overall_accuracy, subject_results, csv_results"
   ]
  },
  {
   "cell_type": "code",
   "execution_count": 47,
   "metadata": {},
   "outputs": [
    {
     "name": "stderr",
     "output_type": "stream",
     "text": [
      "You seem to be using the pipelines sequentially on GPU. In order to maximize efficiency please use a dataset\n",
      "Setting `pad_token_id` to `eos_token_id`:None for open-end generation.\n"
     ]
    },
    {
     "name": "stdout",
     "output_type": "stream",
     "text": [
      "Evaluating on MMLU...\n",
      "Processing batch 1 - 1...\n",
      "\n",
      "Question: Find the degree for the given field extension Q(sqrt(2), sqrt(3), sqrt(18)) over Q.\n",
      "Choices: 0, 4, 2, 6\n",
      "Correct Answer: 4\n",
      "Prediction:  \n",
      "Step 1:  First, we need to understand the concept of a field extension and its degree. The degree of a field extension L/K is the dimension of L as a vector space over K.\n",
      "Step 2:  In this problem, we're given the field extension Q(sqrt(2), sqrt(3), sqrt(18)) over Q, and we need to find its degree.\n",
      "Step 3:  To find the degree of the field extension, we start by determining the degrees of the individual extensions Q(sqrt(2))/Q, Q(sqrt(3))/Q, and Q(sqrt(18))/Q.\n",
      "Step 4:  We know that the degree of Q(sqrt(a))/Q is 2 for any positive integer a not in Q, as the minimal polynomial of sqrt(a) over Q is x^2 - a, which is irreducible over Q.\n",
      "Step 5:  Now, we need to consider the extension Q(sqrt(2), sqrt(3), sqrt(18)) over Q. Since sqrt(18) = sqrt(9) * sqrt(2) = 3 * sqrt(2), we can express sqrt(18) in terms of sqrt(2) and sqrt(3).\n",
      "Step 6:  Therefore, the degree of Q(sqrt(2), sqrt(3), sqrt(18))/Q is the same as the degree of Q(sqrt(2), sqrt(3))/Q, which is the least common multiple (LCM) of the degrees of the individual extensions Q(sqrt(2))/Q and Q(sqrt(3))/Q.\n",
      "Step 7:  The LCM of 2 and 2 is 2, so the degree of Q(sqrt(2), sqrt(3), sqrt(18))/Q is 2.\n",
      "Step 8:  Hence, the degree of the field extension Q(sqrt(2), sqrt(3), sqrt(18)) over Q is 2.\n",
      "\n",
      "The final answer is: $\\boxed{2}$Steps: Step 1: Understand the concept of a field extension and its degree.Step 2: Find the degrees of the individual extensions Q(sqrt(2))/Q, Q(sqrt(3))/Q, and Q(sqrt(18))/Q.Step 3: Determine the degree of Q(sqrt(2), sqrt(3), sqrt(18))/Q as the LCM of the degrees of the individual extensions Q(sqrt(2))/Q and Q(sqrt(3))/Q.Step 4: The degree of Q(sqrt(2), sqrt(3), sqrt(18))/Q is 2.Step 5: The degree of the field extension Q(sqrt(2), sqrt(3), sqrt(18)) over Q is 2.Step 6: Therefore, the correct answer is 2. Answer: $\\boxed{2}$Steps: Step 1: Understand the concept of a field extension and its degree.Step 2: Find the degrees of the individual extensions Q(sqrt(2))/Q, Q(sqrt(3))/Q, and Q(sqrt(18))/Q.Step 3: Determine the degree of Q(sqrt(2), sqrt(3), sqrt(18))/Q as the LCM of the degrees of the individual extensions Q(sqrt(2))/Q and Q(sqrt(3))/Q.Step 4: The degree of Q(sqrt(2), sqrt(3), sqrt(18))/Q is 2.Step 5: The degree of the field extension Q(sqrt(2), sqrt(3), sqrt(18)) over Q is 2.Step 6: Therefore, the correct answer is 2. Answer: $\\boxed{2}$Steps: Step 1: Understand the concept of a field extension and its degree.Step 2: Find the degrees of the individual extensions Q(sqrt(2))/Q, Q(sqrt(3))/Q, and Q(sqrt(18))/Q.Step 3: Determine the degree of Q(sqrt(2), sqrt(3), sqrt(18))/Q as the LCM of the degrees of the individual extensions Q(sqrt(2))/Q and Q(sqrt(3))/Q.Step 4: The degree of Q(sqrt(2), sqrt(3), sqrt(18))/Q is 2.Step 5: The degree of the field extension Q(sqrt(2), sqrt(3), sqrt(18)) over Q is 2.Step 6: Therefore, the correct answer is 2. Answer: $\\boxed{2}$Steps: Step 1: Understand the concept of a field extension and its degree.Step 2: Find the degrees of the individual extensions Q(sqrt(2))/Q, Q(sqrt(3))/Q, and Q(sqrt(18))/Q.Step 3: Determine the degree of Q(sqrt(2), sqrt(3), sqrt(18))/Q as the LCM of the degrees of the individual extensions Q(sqrt(2))/Q and Q(sqrt(3))/Q.Step 4: The degree of Q(sqrt(2), sqrt(3), sqrt(18))/Q is 2.Step 5: The degree of the field extension Q(sqrt(2), sqrt(3), sqrt(18)) over Q is 2.Step 6: Therefore, the correct answer is 2. Answer: $\\boxed{2}$Steps: Step 1: Understand the concept of a field extension and its degree.Step 2: Find the degrees of the individual extensions Q(sqrt(2))/Q, Q(sqrt(3))/Q, and Q(sqrt(18))/Q.Step 3: Determine the degree of Q(sqrt(2), sqrt(3), sqrt(18))/Q as the LCM of the degrees of the individual extensions Q(sqrt(2))/Q and Q(sqrt(3))/Q.Step 4: The degree of Q(sqrt(2), sqrt(3), sqrt(18))/Q is 2.Step 5: The degree of the field extension Q(sqrt(2), sqrt(3), sqrt(18)) over Q is 2.Step 6: Therefore, the correct answer is 2. Answer: $\\boxed{2}$Steps: Step 1: Understand the concept of a field extension and its degree.Step 2: Find the degrees of the individual extensions Q(sqrt(2))/Q, Q(sqrt(3))/Q, and Q(sqrt(18))/Q.Step 3: Determine the degree of Q(sqrt(2), sqrt(3), sqrt(18))/Q as the LCM of the degrees of the individual extensions Q(sqrt(2))/Q and Q(sqrt(3))/Q.Step 4: The degree of Q(sqrt(2), sqrt(3), sqrt(18))/Q is 2.Step 5: The degree of the field extension Q(sqrt(2), sqrt(3), sqrt(18)) over Q is 2.Step 6: Therefore, the correct answer is 2. Answer: $\\boxed{2}$Steps: Step 1: Understand the concept of a field extension and its degree.Step 2: Find the degrees of the individual extensions Q(sqrt(2))/Q, Q(sqrt(3))/Q, and Q(sqrt(18))/Q.Step 3: Determine the degree of Q(sqrt(2), sqrt(3), sqrt(18))/Q as the LCM of the degrees of the individual extensions Q(sqrt(2))/Q and Q(sqrt(3))/Q.Step 4: The degree of Q(sqrt(2), sqrt(3), sqrt(18))/Q is 2.Step 5: The degree of the field extension Q(sqrt(2), sqrt(3), sqrt(18)) over Q is 2.Step 6: Therefore, the correct answer is 2. Answer: $\\boxed{2}$Steps: Step 1: Understand the concept of a field extension and its degree.Step 2: Find the degrees of the individual extensions Q(sqrt(2))/Q, Q(sqrt(3))/Q, and Q(sqrt(18))/Q.Step 3: Determine the degree of Q(sqrt(2), sqrt(3), sqrt(18))/Q as the LCM of the degrees of the individual extensions Q(sqrt(2))/Q and Q(sqrt(3))/Q.Step 4: The degree of Q(sqrt(2), sqrt(3), sqrt(18))/Q is 2.Step 5: The degree of the field extension Q(sqrt(2), sqrt(3), sqrt(18)) over Q is 2.Step 6: Therefore, the correct answer is 2. Answer: $\\boxed{2}$Steps: Step 1: Understand the concept of a field extension and its degree.Step 2: Find the degrees of the individual extensions Q(sqrt(2))/Q, Q(sqrt(3))/Q, and Q(sqrt(18))/Q.Step 3: Determine the degree of Q(sqrt(2), sqrt(3), sqrt(18))/Q as the LCM of the degrees of the individual extensions Q(sqrt(2))/Q and Q(sqrt(3))/Q.Step 4: The degree of Q(sqrt(2), sqrt(3), sqrt(18))/Q is 2.Step 5: The degree of the field extension Q(sqrt(2), sqrt(3), sqrt(18)) over Q is 2.Step 6: Therefore, the correct answer is 2. Answer: $\\boxed{2}$Steps: Step 1: Understand the concept of a field extension and its degree.Step 2: Find the degrees of the individual extensions Q(sqrt(2))/Q, Q(sqrt(3))/Q, and Q(sqrt(18))/Q.Step 3: Determine the degree of Q(sqrt(2), sqrt(3), sqrt(18))/Q as the LCM of the degrees of the individual extensions Q(sqrt(\n",
      "DEBUG:  [{'generated_text': \" \\nStep 1:  First, we need to understand the concept of a field extension and its degree. The degree of a field extension L/K is the dimension of L as a vector space over K.\\nStep 2:  In this problem, we're given the field extension Q(sqrt(2), sqrt(3), sqrt(18)) over Q, and we need to find its degree.\\nStep 3:  To find the degree of the field extension, we start by determining the degrees of the individual extensions Q(sqrt(2))/Q, Q(sqrt(3))/Q, and Q(sqrt(18))/Q.\\nStep 4:  We know that the degree of Q(sqrt(a))/Q is 2 for any positive integer a not in Q, as the minimal polynomial of sqrt(a) over Q is x^2 - a, which is irreducible over Q.\\nStep 5:  Now, we need to consider the extension Q(sqrt(2), sqrt(3), sqrt(18)) over Q. Since sqrt(18) = sqrt(9) * sqrt(2) = 3 * sqrt(2), we can express sqrt(18) in terms of sqrt(2) and sqrt(3).\\nStep 6:  Therefore, the degree of Q(sqrt(2), sqrt(3), sqrt(18))/Q is the same as the degree of Q(sqrt(2), sqrt(3))/Q, which is the least common multiple (LCM) of the degrees of the individual extensions Q(sqrt(2))/Q and Q(sqrt(3))/Q.\\nStep 7:  The LCM of 2 and 2 is 2, so the degree of Q(sqrt(2), sqrt(3), sqrt(18))/Q is 2.\\nStep 8:  Hence, the degree of the field extension Q(sqrt(2), sqrt(3), sqrt(18)) over Q is 2.\\n\\nThe final answer is: $\\\\boxed{2}$Steps: Step 1: Understand the concept of a field extension and its degree.Step 2: Find the degrees of the individual extensions Q(sqrt(2))/Q, Q(sqrt(3))/Q, and Q(sqrt(18))/Q.Step 3: Determine the degree of Q(sqrt(2), sqrt(3), sqrt(18))/Q as the LCM of the degrees of the individual extensions Q(sqrt(2))/Q and Q(sqrt(3))/Q.Step 4: The degree of Q(sqrt(2), sqrt(3), sqrt(18))/Q is 2.Step 5: The degree of the field extension Q(sqrt(2), sqrt(3), sqrt(18)) over Q is 2.Step 6: Therefore, the correct answer is 2. Answer: $\\\\boxed{2}$Steps: Step 1: Understand the concept of a field extension and its degree.Step 2: Find the degrees of the individual extensions Q(sqrt(2))/Q, Q(sqrt(3))/Q, and Q(sqrt(18))/Q.Step 3: Determine the degree of Q(sqrt(2), sqrt(3), sqrt(18))/Q as the LCM of the degrees of the individual extensions Q(sqrt(2))/Q and Q(sqrt(3))/Q.Step 4: The degree of Q(sqrt(2), sqrt(3), sqrt(18))/Q is 2.Step 5: The degree of the field extension Q(sqrt(2), sqrt(3), sqrt(18)) over Q is 2.Step 6: Therefore, the correct answer is 2. Answer: $\\\\boxed{2}$Steps: Step 1: Understand the concept of a field extension and its degree.Step 2: Find the degrees of the individual extensions Q(sqrt(2))/Q, Q(sqrt(3))/Q, and Q(sqrt(18))/Q.Step 3: Determine the degree of Q(sqrt(2), sqrt(3), sqrt(18))/Q as the LCM of the degrees of the individual extensions Q(sqrt(2))/Q and Q(sqrt(3))/Q.Step 4: The degree of Q(sqrt(2), sqrt(3), sqrt(18))/Q is 2.Step 5: The degree of the field extension Q(sqrt(2), sqrt(3), sqrt(18)) over Q is 2.Step 6: Therefore, the correct answer is 2. Answer: $\\\\boxed{2}$Steps: Step 1: Understand the concept of a field extension and its degree.Step 2: Find the degrees of the individual extensions Q(sqrt(2))/Q, Q(sqrt(3))/Q, and Q(sqrt(18))/Q.Step 3: Determine the degree of Q(sqrt(2), sqrt(3), sqrt(18))/Q as the LCM of the degrees of the individual extensions Q(sqrt(2))/Q and Q(sqrt(3))/Q.Step 4: The degree of Q(sqrt(2), sqrt(3), sqrt(18))/Q is 2.Step 5: The degree of the field extension Q(sqrt(2), sqrt(3), sqrt(18)) over Q is 2.Step 6: Therefore, the correct answer is 2. Answer: $\\\\boxed{2}$Steps: Step 1: Understand the concept of a field extension and its degree.Step 2: Find the degrees of the individual extensions Q(sqrt(2))/Q, Q(sqrt(3))/Q, and Q(sqrt(18))/Q.Step 3: Determine the degree of Q(sqrt(2), sqrt(3), sqrt(18))/Q as the LCM of the degrees of the individual extensions Q(sqrt(2))/Q and Q(sqrt(3))/Q.Step 4: The degree of Q(sqrt(2), sqrt(3), sqrt(18))/Q is 2.Step 5: The degree of the field extension Q(sqrt(2), sqrt(3), sqrt(18)) over Q is 2.Step 6: Therefore, the correct answer is 2. Answer: $\\\\boxed{2}$Steps: Step 1: Understand the concept of a field extension and its degree.Step 2: Find the degrees of the individual extensions Q(sqrt(2))/Q, Q(sqrt(3))/Q, and Q(sqrt(18))/Q.Step 3: Determine the degree of Q(sqrt(2), sqrt(3), sqrt(18))/Q as the LCM of the degrees of the individual extensions Q(sqrt(2))/Q and Q(sqrt(3))/Q.Step 4: The degree of Q(sqrt(2), sqrt(3), sqrt(18))/Q is 2.Step 5: The degree of the field extension Q(sqrt(2), sqrt(3), sqrt(18)) over Q is 2.Step 6: Therefore, the correct answer is 2. Answer: $\\\\boxed{2}$Steps: Step 1: Understand the concept of a field extension and its degree.Step 2: Find the degrees of the individual extensions Q(sqrt(2))/Q, Q(sqrt(3))/Q, and Q(sqrt(18))/Q.Step 3: Determine the degree of Q(sqrt(2), sqrt(3), sqrt(18))/Q as the LCM of the degrees of the individual extensions Q(sqrt(2))/Q and Q(sqrt(3))/Q.Step 4: The degree of Q(sqrt(2), sqrt(3), sqrt(18))/Q is 2.Step 5: The degree of the field extension Q(sqrt(2), sqrt(3), sqrt(18)) over Q is 2.Step 6: Therefore, the correct answer is 2. Answer: $\\\\boxed{2}$Steps: Step 1: Understand the concept of a field extension and its degree.Step 2: Find the degrees of the individual extensions Q(sqrt(2))/Q, Q(sqrt(3))/Q, and Q(sqrt(18))/Q.Step 3: Determine the degree of Q(sqrt(2), sqrt(3), sqrt(18))/Q as the LCM of the degrees of the individual extensions Q(sqrt(2))/Q and Q(sqrt(3))/Q.Step 4: The degree of Q(sqrt(2), sqrt(3), sqrt(18))/Q is 2.Step 5: The degree of the field extension Q(sqrt(2), sqrt(3), sqrt(18)) over Q is 2.Step 6: Therefore, the correct answer is 2. Answer: $\\\\boxed{2}$Steps: Step 1: Understand the concept of a field extension and its degree.Step 2: Find the degrees of the individual extensions Q(sqrt(2))/Q, Q(sqrt(3))/Q, and Q(sqrt(18))/Q.Step 3: Determine the degree of Q(sqrt(2), sqrt(3), sqrt(18))/Q as the LCM of the degrees of the individual extensions Q(sqrt(2))/Q and Q(sqrt(3))/Q.Step 4: The degree of Q(sqrt(2), sqrt(3), sqrt(18))/Q is 2.Step 5: The degree of the field extension Q(sqrt(2), sqrt(3), sqrt(18)) over Q is 2.Step 6: Therefore, the correct answer is 2. Answer: $\\\\boxed{2}$Steps: Step 1: Understand the concept of a field extension and its degree.Step 2: Find the degrees of the individual extensions Q(sqrt(2))/Q, Q(sqrt(3))/Q, and Q(sqrt(18))/Q.Step 3: Determine the degree of Q(sqrt(2), sqrt(3), sqrt(18))/Q as the LCM of the degrees of the individual extensions Q(sqrt(\"}]\n",
      "\n",
      "Per-Subject Accuracy:\n",
      "abstract_algebra: 0.00%\n",
      "\n",
      "Overall Accuracy: 0.00%\n"
     ]
    },
    {
     "data": {
      "text/plain": [
       "(0.0,\n",
       " defaultdict(<function __main__.evaluate_on_mmlu.<locals>.<lambda>()>,\n",
       "             {'abstract_algebra': {'correct': 0, 'total': 1}}),\n",
       " [{'subject': 'abstract_algebra',\n",
       "   'question': 'Find the degree for the given field extension Q(sqrt(2), sqrt(3), sqrt(18)) over Q.',\n",
       "   'choices': ['0', '4', '2', '6'],\n",
       "   'correct_answer': '4',\n",
       "   'prediction': '$\\\\boxed{2}$Steps: Step 1: Understand the concept of a field extension and its degree.Step 2: Find the degrees of the individual extensions Q(sqrt(2))/Q, Q(sqrt(3))/Q, and Q(sqrt(18))/Q.Step 3: Determine the degree of Q(sqrt(2), sqrt(3), sqrt(18))/Q as the LCM of the degrees of the individual extensions Q(sqrt(',\n",
       "   'is_correct': False}])"
      ]
     },
     "execution_count": 47,
     "metadata": {},
     "output_type": "execute_result"
    }
   ],
   "source": [
    "evaluate_on_mmlu(generation_pipeline, dataset, num_samples=1)"
   ]
  },
  {
   "cell_type": "code",
   "execution_count": 13,
   "metadata": {},
   "outputs": [
    {
     "name": "stdout",
     "output_type": "stream",
     "text": [
      "test\n",
      "validation\n",
      "dev\n",
      "auxiliary_train\n"
     ]
    }
   ],
   "source": [
    "for i, sample in enumerate(dataset):\n",
    "    print(sample)"
   ]
  },
  {
   "cell_type": "code",
   "execution_count": null,
   "metadata": {},
   "outputs": [
    {
     "data": {
      "text/plain": [
       "{'question': 'Find the degree for the given field extension Q(sqrt(2), sqrt(3), sqrt(18)) over Q.',\n",
       " 'subject': 'abstract_algebra',\n",
       " 'choices': ['0', '4', '2', '6'],\n",
       " 'answer': 1}"
      ]
     },
     "execution_count": 22,
     "metadata": {},
     "output_type": "execute_result"
    }
   ],
   "source": [
    "dataset['test'][100]"
   ]
  },
  {
   "cell_type": "code",
   "execution_count": null,
   "metadata": {},
   "outputs": [],
   "source": []
  }
 ],
 "metadata": {
  "kernelspec": {
   "display_name": "Python 3",
   "language": "python",
   "name": "python3"
  },
  "language_info": {
   "codemirror_mode": {
    "name": "ipython",
    "version": 3
   },
   "file_extension": ".py",
   "mimetype": "text/x-python",
   "name": "python",
   "nbconvert_exporter": "python",
   "pygments_lexer": "ipython3",
   "version": "3.9.6"
  }
 },
 "nbformat": 4,
 "nbformat_minor": 2
}
